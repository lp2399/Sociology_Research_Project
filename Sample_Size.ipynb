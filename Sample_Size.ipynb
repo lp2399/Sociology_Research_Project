{
 "metadata": {
  "language_info": {
   "codemirror_mode": {
    "name": "ipython",
    "version": 3
   },
   "file_extension": ".py",
   "mimetype": "text/x-python",
   "name": "python",
   "nbconvert_exporter": "python",
   "pygments_lexer": "ipython3",
   "version": "3.8.3"
  },
  "orig_nbformat": 2,
  "kernelspec": {
   "name": "python383jvsc74a57bd0b3ba2566441a7c06988d0923437866b63cedc61552a5af99d1f4fb67d367b25f",
   "display_name": "Python 3.8.3 64-bit (conda)"
  }
 },
 "nbformat": 4,
 "nbformat_minor": 2,
 "cells": [
  {
   "source": [
    "# Disclaimer\n",
    "\n",
    "_** Luis Perez is not responsible for any errors or omissions, or for the results obtained from the use of the information in this document. All information in this document is provided \"as is\", with no guarantee of completeness, accuracy, timeliness, or of the results obtained from the use of this information, and without warranty of any kind, express or implied. **_\n",
    "\n",
    "_** The views, opinions, information, and findings expressed in this document are those of the author and do not necessarily reflect the official policy or position of Benedictine University. Any content provided in this document by the author is of his/her opinion and is not intended to malign any religion, ethnic group, club, organization, company, individual, or anyone or anything. The findings and information in this document are not representative of Benedictine University students nor of Benedictine University. **_\n"
   ],
   "cell_type": "markdown",
   "metadata": {}
  },
  {
   "source": [
    "\n",
    "<br>\n",
    "<hr style=\"border:1px solid gray\"> </hr>\n",
    "\n",
    "<br>\n",
    "\n",
    "# Calculating sample size\n",
    "Calculating the sample size of an infinte population  \n",
    "\n",
    "$n_{0} = \\frac{Z^{2}pq}{e^{2}}$\n",
    "\n",
    "Z represents z score, p is population proportion, q is 1-p, e is the confidence interval\n",
    "\n",
    "Calculating the sample size of a finite population\n",
    "\n",
    "$n =  \\frac{n_{0}}{1+\\frac{n_{0}-1}{N}}$\n",
    "\n",
    "N represents the target population size\n",
    "\n",
    "\n",
    "    \n",
    "    "
   ],
   "cell_type": "markdown",
   "metadata": {}
  },
  {
   "cell_type": "code",
   "execution_count": 1,
   "metadata": {},
   "outputs": [
    {
     "output_type": "execute_result",
     "data": {
      "text/plain": [
       "207"
      ]
     },
     "metadata": {},
     "execution_count": 1
    }
   ],
   "source": [
    "def sample_size(confidence_level,population_proportion,confidence_interval,population_size):\n",
    "    from statistics import NormalDist\n",
    "\n",
    "    alpha = 1-confidence_level\n",
    "    z_score = NormalDist().inv_cdf(1-alpha/2) \n",
    "    n_subscript_zero=(z_score**2*population_proportion*(1-population_proportion))/confidence_interval**2\n",
    "    n =  n_subscript_zero/(1+(n_subscript_zero-1)/population_size)\n",
    "    return round(n)\n",
    "sample_size(.95,.5,.05,450) # confidence level is 95%, population proportion is unknown, a conservative estimate value of .5 is chosen, confidence interval ±5%, the approximated size of the population is 450\n"
   ]
  },
  {
   "source": [
    "207 randomly chosen partipants would be the adequate sample size. Unfortunately I do not have acces to the emails of the all students of Benedictine University. I instead sent out the survey to people in my classes, approximately 80 Benedictine University students, only 28 responded to the survey.  "
   ],
   "cell_type": "markdown",
   "metadata": {}
  },
  {
   "cell_type": "code",
   "execution_count": null,
   "metadata": {},
   "outputs": [],
   "source": []
  }
 ]
}